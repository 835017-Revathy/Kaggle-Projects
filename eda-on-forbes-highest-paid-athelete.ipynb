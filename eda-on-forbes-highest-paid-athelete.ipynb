{
 "cells": [
  {
   "cell_type": "code",
   "execution_count": 1,
   "id": "4c05f58f",
   "metadata": {
    "_cell_guid": "b1076dfc-b9ad-4769-8c92-a6c4dae69d19",
    "_uuid": "8f2839f25d086af736a60e9eeb907d3b93b6e0e5",
    "execution": {
     "iopub.execute_input": "2022-03-18T11:17:21.697399Z",
     "iopub.status.busy": "2022-03-18T11:17:21.696317Z",
     "iopub.status.idle": "2022-03-18T11:17:21.715431Z",
     "shell.execute_reply": "2022-03-18T11:17:21.714643Z",
     "shell.execute_reply.started": "2022-03-18T10:29:08.572414Z"
    },
    "papermill": {
     "duration": 0.043252,
     "end_time": "2022-03-18T11:17:21.715607",
     "exception": false,
     "start_time": "2022-03-18T11:17:21.672355",
     "status": "completed"
    },
    "tags": []
   },
   "outputs": [
    {
     "name": "stdout",
     "output_type": "stream",
     "text": [
      "/kaggle/input/forbes-highest-paid-athletes-19902019/Forbes Richest Atheletes (Forbes Richest Athletes 1990-2020).csv\n"
     ]
    }
   ],
   "source": [
    "# This Python 3 environment comes with many helpful analytics libraries installed\n",
    "# It is defined by the kaggle/python Docker image: https://github.com/kaggle/docker-python\n",
    "# For example, here's several helpful packages to load\n",
    "\n",
    "import numpy as np # linear algebra\n",
    "import pandas as pd # data processing, CSV file I/O (e.g. pd.read_csv)\n",
    "\n",
    "# Input data files are available in the read-only \"../input/\" directory\n",
    "# For example, running this (by clicking run or pressing Shift+Enter) will list all files under the input directory\n",
    "\n",
    "import os\n",
    "for dirname, _, filenames in os.walk('/kaggle/input'):\n",
    "    for filename in filenames:\n",
    "        print(os.path.join(dirname, filename))\n",
    "\n",
    "# You can write up to 20GB to the current directory (/kaggle/working/) that gets preserved as output when you create a version using \"Save & Run All\" \n",
    "# You can also write temporary files to /kaggle/temp/, but they won't be saved outside of the current session"
   ]
  },
  {
   "cell_type": "code",
   "execution_count": 2,
   "id": "cc786f80",
   "metadata": {
    "execution": {
     "iopub.execute_input": "2022-03-18T11:17:21.758315Z",
     "iopub.status.busy": "2022-03-18T11:17:21.757713Z",
     "iopub.status.idle": "2022-03-18T11:17:21.773221Z",
     "shell.execute_reply": "2022-03-18T11:17:21.773804Z",
     "shell.execute_reply.started": "2022-03-18T10:29:08.610096Z"
    },
    "papermill": {
     "duration": 0.038198,
     "end_time": "2022-03-18T11:17:21.773995",
     "exception": false,
     "start_time": "2022-03-18T11:17:21.735797",
     "status": "completed"
    },
    "tags": []
   },
   "outputs": [],
   "source": [
    "import pandas as pd\n",
    "df = pd.read_csv(\"../input/forbes-highest-paid-athletes-19902019/Forbes Richest Atheletes (Forbes Richest Athletes 1990-2020).csv\")"
   ]
  },
  {
   "cell_type": "code",
   "execution_count": 3,
   "id": "97bf91f8",
   "metadata": {
    "execution": {
     "iopub.execute_input": "2022-03-18T11:17:21.821026Z",
     "iopub.status.busy": "2022-03-18T11:17:21.820445Z",
     "iopub.status.idle": "2022-03-18T11:17:21.833829Z",
     "shell.execute_reply": "2022-03-18T11:17:21.834275Z",
     "shell.execute_reply.started": "2022-03-18T10:29:08.630152Z"
    },
    "papermill": {
     "duration": 0.041222,
     "end_time": "2022-03-18T11:17:21.834440",
     "exception": false,
     "start_time": "2022-03-18T11:17:21.793218",
     "status": "completed"
    },
    "tags": []
   },
   "outputs": [
    {
     "data": {
      "text/html": [
       "<div>\n",
       "<style scoped>\n",
       "    .dataframe tbody tr th:only-of-type {\n",
       "        vertical-align: middle;\n",
       "    }\n",
       "\n",
       "    .dataframe tbody tr th {\n",
       "        vertical-align: top;\n",
       "    }\n",
       "\n",
       "    .dataframe thead th {\n",
       "        text-align: right;\n",
       "    }\n",
       "</style>\n",
       "<table border=\"1\" class=\"dataframe\">\n",
       "  <thead>\n",
       "    <tr style=\"text-align: right;\">\n",
       "      <th></th>\n",
       "      <th>S.NO</th>\n",
       "      <th>Name</th>\n",
       "      <th>Nationality</th>\n",
       "      <th>Current Rank</th>\n",
       "      <th>Previous Year Rank</th>\n",
       "      <th>Sport</th>\n",
       "      <th>Year</th>\n",
       "      <th>earnings ($ million)</th>\n",
       "    </tr>\n",
       "  </thead>\n",
       "  <tbody>\n",
       "    <tr>\n",
       "      <th>0</th>\n",
       "      <td>1</td>\n",
       "      <td>Mike Tyson</td>\n",
       "      <td>USA</td>\n",
       "      <td>1</td>\n",
       "      <td>NaN</td>\n",
       "      <td>boxing</td>\n",
       "      <td>1990</td>\n",
       "      <td>28.6</td>\n",
       "    </tr>\n",
       "    <tr>\n",
       "      <th>1</th>\n",
       "      <td>2</td>\n",
       "      <td>Buster Douglas</td>\n",
       "      <td>USA</td>\n",
       "      <td>2</td>\n",
       "      <td>NaN</td>\n",
       "      <td>boxing</td>\n",
       "      <td>1990</td>\n",
       "      <td>26.0</td>\n",
       "    </tr>\n",
       "    <tr>\n",
       "      <th>2</th>\n",
       "      <td>3</td>\n",
       "      <td>Sugar Ray Leonard</td>\n",
       "      <td>USA</td>\n",
       "      <td>3</td>\n",
       "      <td>NaN</td>\n",
       "      <td>boxing</td>\n",
       "      <td>1990</td>\n",
       "      <td>13.0</td>\n",
       "    </tr>\n",
       "    <tr>\n",
       "      <th>3</th>\n",
       "      <td>4</td>\n",
       "      <td>Ayrton Senna</td>\n",
       "      <td>Brazil</td>\n",
       "      <td>4</td>\n",
       "      <td>NaN</td>\n",
       "      <td>auto racing</td>\n",
       "      <td>1990</td>\n",
       "      <td>10.0</td>\n",
       "    </tr>\n",
       "    <tr>\n",
       "      <th>4</th>\n",
       "      <td>5</td>\n",
       "      <td>Alain Prost</td>\n",
       "      <td>France</td>\n",
       "      <td>5</td>\n",
       "      <td>NaN</td>\n",
       "      <td>auto racing</td>\n",
       "      <td>1990</td>\n",
       "      <td>9.0</td>\n",
       "    </tr>\n",
       "  </tbody>\n",
       "</table>\n",
       "</div>"
      ],
      "text/plain": [
       "   S.NO               Name Nationality  Current Rank Previous Year Rank  \\\n",
       "0     1         Mike Tyson         USA             1                NaN   \n",
       "1     2     Buster Douglas         USA             2                NaN   \n",
       "2     3  Sugar Ray Leonard         USA             3                NaN   \n",
       "3     4       Ayrton Senna      Brazil             4                NaN   \n",
       "4     5        Alain Prost      France             5                NaN   \n",
       "\n",
       "         Sport  Year  earnings ($ million)  \n",
       "0       boxing  1990                  28.6  \n",
       "1       boxing  1990                  26.0  \n",
       "2       boxing  1990                  13.0  \n",
       "3  auto racing  1990                  10.0  \n",
       "4  auto racing  1990                   9.0  "
      ]
     },
     "execution_count": 3,
     "metadata": {},
     "output_type": "execute_result"
    }
   ],
   "source": [
    "df.head()"
   ]
  },
  {
   "cell_type": "code",
   "execution_count": 4,
   "id": "8c6eef13",
   "metadata": {
    "execution": {
     "iopub.execute_input": "2022-03-18T11:17:21.876334Z",
     "iopub.status.busy": "2022-03-18T11:17:21.875769Z",
     "iopub.status.idle": "2022-03-18T11:17:21.899572Z",
     "shell.execute_reply": "2022-03-18T11:17:21.899988Z",
     "shell.execute_reply.started": "2022-03-18T10:29:08.653245Z"
    },
    "papermill": {
     "duration": 0.046167,
     "end_time": "2022-03-18T11:17:21.900155",
     "exception": false,
     "start_time": "2022-03-18T11:17:21.853988",
     "status": "completed"
    },
    "tags": []
   },
   "outputs": [
    {
     "name": "stdout",
     "output_type": "stream",
     "text": [
      "<class 'pandas.core.frame.DataFrame'>\n",
      "RangeIndex: 301 entries, 0 to 300\n",
      "Data columns (total 8 columns):\n",
      " #   Column                Non-Null Count  Dtype  \n",
      "---  ------                --------------  -----  \n",
      " 0   S.NO                  301 non-null    int64  \n",
      " 1   Name                  301 non-null    object \n",
      " 2   Nationality           301 non-null    object \n",
      " 3   Current Rank          301 non-null    int64  \n",
      " 4   Previous Year Rank    277 non-null    object \n",
      " 5   Sport                 301 non-null    object \n",
      " 6   Year                  301 non-null    int64  \n",
      " 7   earnings ($ million)  301 non-null    float64\n",
      "dtypes: float64(1), int64(3), object(4)\n",
      "memory usage: 18.9+ KB\n"
     ]
    }
   ],
   "source": [
    "df.info()"
   ]
  },
  {
   "cell_type": "code",
   "execution_count": 5,
   "id": "9980f9de",
   "metadata": {
    "execution": {
     "iopub.execute_input": "2022-03-18T11:17:21.946307Z",
     "iopub.status.busy": "2022-03-18T11:17:21.945541Z",
     "iopub.status.idle": "2022-03-18T11:17:21.961779Z",
     "shell.execute_reply": "2022-03-18T11:17:21.962371Z",
     "shell.execute_reply.started": "2022-03-18T10:29:08.673108Z"
    },
    "papermill": {
     "duration": 0.041889,
     "end_time": "2022-03-18T11:17:21.962545",
     "exception": false,
     "start_time": "2022-03-18T11:17:21.920656",
     "status": "completed"
    },
    "tags": []
   },
   "outputs": [
    {
     "data": {
      "text/html": [
       "<div>\n",
       "<style scoped>\n",
       "    .dataframe tbody tr th:only-of-type {\n",
       "        vertical-align: middle;\n",
       "    }\n",
       "\n",
       "    .dataframe tbody tr th {\n",
       "        vertical-align: top;\n",
       "    }\n",
       "\n",
       "    .dataframe thead th {\n",
       "        text-align: right;\n",
       "    }\n",
       "</style>\n",
       "<table border=\"1\" class=\"dataframe\">\n",
       "  <thead>\n",
       "    <tr style=\"text-align: right;\">\n",
       "      <th></th>\n",
       "      <th>S.NO</th>\n",
       "      <th>Name</th>\n",
       "      <th>Nationality</th>\n",
       "      <th>Current_Rank</th>\n",
       "      <th>Previous_Year_Rank</th>\n",
       "      <th>Sport</th>\n",
       "      <th>Year</th>\n",
       "      <th>earnings_($_million)</th>\n",
       "    </tr>\n",
       "  </thead>\n",
       "  <tbody>\n",
       "    <tr>\n",
       "      <th>0</th>\n",
       "      <td>1</td>\n",
       "      <td>Mike Tyson</td>\n",
       "      <td>USA</td>\n",
       "      <td>1</td>\n",
       "      <td>NaN</td>\n",
       "      <td>boxing</td>\n",
       "      <td>1990</td>\n",
       "      <td>28.6</td>\n",
       "    </tr>\n",
       "    <tr>\n",
       "      <th>1</th>\n",
       "      <td>2</td>\n",
       "      <td>Buster Douglas</td>\n",
       "      <td>USA</td>\n",
       "      <td>2</td>\n",
       "      <td>NaN</td>\n",
       "      <td>boxing</td>\n",
       "      <td>1990</td>\n",
       "      <td>26.0</td>\n",
       "    </tr>\n",
       "    <tr>\n",
       "      <th>2</th>\n",
       "      <td>3</td>\n",
       "      <td>Sugar Ray Leonard</td>\n",
       "      <td>USA</td>\n",
       "      <td>3</td>\n",
       "      <td>NaN</td>\n",
       "      <td>boxing</td>\n",
       "      <td>1990</td>\n",
       "      <td>13.0</td>\n",
       "    </tr>\n",
       "    <tr>\n",
       "      <th>3</th>\n",
       "      <td>4</td>\n",
       "      <td>Ayrton Senna</td>\n",
       "      <td>Brazil</td>\n",
       "      <td>4</td>\n",
       "      <td>NaN</td>\n",
       "      <td>auto racing</td>\n",
       "      <td>1990</td>\n",
       "      <td>10.0</td>\n",
       "    </tr>\n",
       "    <tr>\n",
       "      <th>4</th>\n",
       "      <td>5</td>\n",
       "      <td>Alain Prost</td>\n",
       "      <td>France</td>\n",
       "      <td>5</td>\n",
       "      <td>NaN</td>\n",
       "      <td>auto racing</td>\n",
       "      <td>1990</td>\n",
       "      <td>9.0</td>\n",
       "    </tr>\n",
       "  </tbody>\n",
       "</table>\n",
       "</div>"
      ],
      "text/plain": [
       "   S.NO               Name Nationality  Current_Rank Previous_Year_Rank  \\\n",
       "0     1         Mike Tyson         USA             1                NaN   \n",
       "1     2     Buster Douglas         USA             2                NaN   \n",
       "2     3  Sugar Ray Leonard         USA             3                NaN   \n",
       "3     4       Ayrton Senna      Brazil             4                NaN   \n",
       "4     5        Alain Prost      France             5                NaN   \n",
       "\n",
       "         Sport  Year  earnings_($_million)  \n",
       "0       boxing  1990                  28.6  \n",
       "1       boxing  1990                  26.0  \n",
       "2       boxing  1990                  13.0  \n",
       "3  auto racing  1990                  10.0  \n",
       "4  auto racing  1990                   9.0  "
      ]
     },
     "execution_count": 5,
     "metadata": {},
     "output_type": "execute_result"
    }
   ],
   "source": [
    "df.columns =[column.replace(\" \", \"_\") for column in df.columns]\n",
    "df.head()"
   ]
  },
  {
   "cell_type": "code",
   "execution_count": 6,
   "id": "8a14f343",
   "metadata": {
    "execution": {
     "iopub.execute_input": "2022-03-18T11:17:22.016930Z",
     "iopub.status.busy": "2022-03-18T11:17:22.016277Z",
     "iopub.status.idle": "2022-03-18T11:17:22.042449Z",
     "shell.execute_reply": "2022-03-18T11:17:22.043160Z",
     "shell.execute_reply.started": "2022-03-18T10:29:08.688607Z"
    },
    "papermill": {
     "duration": 0.054108,
     "end_time": "2022-03-18T11:17:22.043421",
     "exception": false,
     "start_time": "2022-03-18T11:17:21.989313",
     "status": "completed"
    },
    "tags": []
   },
   "outputs": [
    {
     "data": {
      "text/html": [
       "<div>\n",
       "<style scoped>\n",
       "    .dataframe tbody tr th:only-of-type {\n",
       "        vertical-align: middle;\n",
       "    }\n",
       "\n",
       "    .dataframe tbody tr th {\n",
       "        vertical-align: top;\n",
       "    }\n",
       "\n",
       "    .dataframe thead th {\n",
       "        text-align: right;\n",
       "    }\n",
       "</style>\n",
       "<table border=\"1\" class=\"dataframe\">\n",
       "  <thead>\n",
       "    <tr style=\"text-align: right;\">\n",
       "      <th></th>\n",
       "      <th>S.NO</th>\n",
       "      <th>Current_Rank</th>\n",
       "      <th>Year</th>\n",
       "      <th>earnings_($_million)</th>\n",
       "    </tr>\n",
       "  </thead>\n",
       "  <tbody>\n",
       "    <tr>\n",
       "      <th>count</th>\n",
       "      <td>301.000000</td>\n",
       "      <td>301.000000</td>\n",
       "      <td>301.000000</td>\n",
       "      <td>301.000000</td>\n",
       "    </tr>\n",
       "    <tr>\n",
       "      <th>mean</th>\n",
       "      <td>151.000000</td>\n",
       "      <td>5.448505</td>\n",
       "      <td>2005.122924</td>\n",
       "      <td>45.516279</td>\n",
       "    </tr>\n",
       "    <tr>\n",
       "      <th>std</th>\n",
       "      <td>87.035433</td>\n",
       "      <td>2.850995</td>\n",
       "      <td>9.063563</td>\n",
       "      <td>33.525337</td>\n",
       "    </tr>\n",
       "    <tr>\n",
       "      <th>min</th>\n",
       "      <td>1.000000</td>\n",
       "      <td>1.000000</td>\n",
       "      <td>1990.000000</td>\n",
       "      <td>8.100000</td>\n",
       "    </tr>\n",
       "    <tr>\n",
       "      <th>25%</th>\n",
       "      <td>76.000000</td>\n",
       "      <td>3.000000</td>\n",
       "      <td>1997.000000</td>\n",
       "      <td>24.000000</td>\n",
       "    </tr>\n",
       "    <tr>\n",
       "      <th>50%</th>\n",
       "      <td>151.000000</td>\n",
       "      <td>5.000000</td>\n",
       "      <td>2005.000000</td>\n",
       "      <td>39.000000</td>\n",
       "    </tr>\n",
       "    <tr>\n",
       "      <th>75%</th>\n",
       "      <td>226.000000</td>\n",
       "      <td>8.000000</td>\n",
       "      <td>2013.000000</td>\n",
       "      <td>59.400000</td>\n",
       "    </tr>\n",
       "    <tr>\n",
       "      <th>max</th>\n",
       "      <td>301.000000</td>\n",
       "      <td>10.000000</td>\n",
       "      <td>2020.000000</td>\n",
       "      <td>300.000000</td>\n",
       "    </tr>\n",
       "  </tbody>\n",
       "</table>\n",
       "</div>"
      ],
      "text/plain": [
       "             S.NO  Current_Rank         Year  earnings_($_million)\n",
       "count  301.000000    301.000000   301.000000            301.000000\n",
       "mean   151.000000      5.448505  2005.122924             45.516279\n",
       "std     87.035433      2.850995     9.063563             33.525337\n",
       "min      1.000000      1.000000  1990.000000              8.100000\n",
       "25%     76.000000      3.000000  1997.000000             24.000000\n",
       "50%    151.000000      5.000000  2005.000000             39.000000\n",
       "75%    226.000000      8.000000  2013.000000             59.400000\n",
       "max    301.000000     10.000000  2020.000000            300.000000"
      ]
     },
     "execution_count": 6,
     "metadata": {},
     "output_type": "execute_result"
    }
   ],
   "source": [
    "df.describe()"
   ]
  },
  {
   "cell_type": "code",
   "execution_count": 7,
   "id": "e97349d1",
   "metadata": {
    "execution": {
     "iopub.execute_input": "2022-03-18T11:17:22.095855Z",
     "iopub.status.busy": "2022-03-18T11:17:22.094904Z",
     "iopub.status.idle": "2022-03-18T11:17:22.097545Z",
     "shell.execute_reply": "2022-03-18T11:17:22.098063Z",
     "shell.execute_reply.started": "2022-03-18T10:29:08.714062Z"
    },
    "papermill": {
     "duration": 0.032215,
     "end_time": "2022-03-18T11:17:22.098222",
     "exception": false,
     "start_time": "2022-03-18T11:17:22.066007",
     "status": "completed"
    },
    "tags": []
   },
   "outputs": [],
   "source": [
    "new_df= df.isna().sum()\n"
   ]
  },
  {
   "cell_type": "code",
   "execution_count": 8,
   "id": "83a6b8cc",
   "metadata": {
    "execution": {
     "iopub.execute_input": "2022-03-18T11:17:22.143240Z",
     "iopub.status.busy": "2022-03-18T11:17:22.142673Z",
     "iopub.status.idle": "2022-03-18T11:17:22.156567Z",
     "shell.execute_reply": "2022-03-18T11:17:22.156984Z",
     "shell.execute_reply.started": "2022-03-18T10:29:08.720072Z"
    },
    "papermill": {
     "duration": 0.038066,
     "end_time": "2022-03-18T11:17:22.157156",
     "exception": false,
     "start_time": "2022-03-18T11:17:22.119090",
     "status": "completed"
    },
    "tags": []
   },
   "outputs": [
    {
     "data": {
      "text/html": [
       "<div>\n",
       "<style scoped>\n",
       "    .dataframe tbody tr th:only-of-type {\n",
       "        vertical-align: middle;\n",
       "    }\n",
       "\n",
       "    .dataframe tbody tr th {\n",
       "        vertical-align: top;\n",
       "    }\n",
       "\n",
       "    .dataframe thead th {\n",
       "        text-align: right;\n",
       "    }\n",
       "</style>\n",
       "<table border=\"1\" class=\"dataframe\">\n",
       "  <thead>\n",
       "    <tr style=\"text-align: right;\">\n",
       "      <th></th>\n",
       "      <th>S.NO</th>\n",
       "      <th>Name</th>\n",
       "      <th>Nationality</th>\n",
       "      <th>Current_Rank</th>\n",
       "      <th>Previous_Year_Rank</th>\n",
       "      <th>Sport</th>\n",
       "      <th>Year</th>\n",
       "      <th>earnings_($_million)</th>\n",
       "    </tr>\n",
       "  </thead>\n",
       "  <tbody>\n",
       "    <tr>\n",
       "      <th>10</th>\n",
       "      <td>11</td>\n",
       "      <td>Evander Holyfield</td>\n",
       "      <td>USA</td>\n",
       "      <td>1</td>\n",
       "      <td>8</td>\n",
       "      <td>boxing</td>\n",
       "      <td>1991</td>\n",
       "      <td>60.5</td>\n",
       "    </tr>\n",
       "    <tr>\n",
       "      <th>11</th>\n",
       "      <td>12</td>\n",
       "      <td>Mike Tyson</td>\n",
       "      <td>USA</td>\n",
       "      <td>2</td>\n",
       "      <td>1</td>\n",
       "      <td>boxing</td>\n",
       "      <td>1991</td>\n",
       "      <td>31.5</td>\n",
       "    </tr>\n",
       "    <tr>\n",
       "      <th>12</th>\n",
       "      <td>13</td>\n",
       "      <td>Michael Jordan</td>\n",
       "      <td>USA</td>\n",
       "      <td>3</td>\n",
       "      <td>8</td>\n",
       "      <td>basketball</td>\n",
       "      <td>1991</td>\n",
       "      <td>16.0</td>\n",
       "    </tr>\n",
       "    <tr>\n",
       "      <th>13</th>\n",
       "      <td>14</td>\n",
       "      <td>George Foreman</td>\n",
       "      <td>USA</td>\n",
       "      <td>4</td>\n",
       "      <td>&gt;30</td>\n",
       "      <td>boxing</td>\n",
       "      <td>1991</td>\n",
       "      <td>14.5</td>\n",
       "    </tr>\n",
       "    <tr>\n",
       "      <th>14</th>\n",
       "      <td>15</td>\n",
       "      <td>Ayrton Senna</td>\n",
       "      <td>Brazil</td>\n",
       "      <td>5</td>\n",
       "      <td>4</td>\n",
       "      <td>auto racing</td>\n",
       "      <td>1991</td>\n",
       "      <td>13.0</td>\n",
       "    </tr>\n",
       "  </tbody>\n",
       "</table>\n",
       "</div>"
      ],
      "text/plain": [
       "    S.NO               Name Nationality  Current_Rank Previous_Year_Rank  \\\n",
       "10    11  Evander Holyfield         USA             1                  8   \n",
       "11    12         Mike Tyson         USA             2                  1   \n",
       "12    13     Michael Jordan         USA             3                  8   \n",
       "13    14     George Foreman         USA             4                >30   \n",
       "14    15       Ayrton Senna      Brazil             5                  4   \n",
       "\n",
       "          Sport  Year  earnings_($_million)  \n",
       "10       boxing  1991                  60.5  \n",
       "11       boxing  1991                  31.5  \n",
       "12   basketball  1991                  16.0  \n",
       "13       boxing  1991                  14.5  \n",
       "14  auto racing  1991                  13.0  "
      ]
     },
     "execution_count": 8,
     "metadata": {},
     "output_type": "execute_result"
    }
   ],
   "source": [
    "new_df = df.dropna()\n",
    "new_df.head()"
   ]
  },
  {
   "cell_type": "markdown",
   "id": "5f45ba66",
   "metadata": {
    "papermill": {
     "duration": 0.021251,
     "end_time": "2022-03-18T11:17:22.199842",
     "exception": false,
     "start_time": "2022-03-18T11:17:22.178591",
     "status": "completed"
    },
    "tags": []
   },
   "source": [
    "**Conclusion 1:**\n",
    "Below Graph Shows which player  appeared most on the Forbes Highest Paid Athelte and it is highly visible that Michael Jordan has appeared more in the Article."
   ]
  },
  {
   "cell_type": "code",
   "execution_count": 9,
   "id": "d42bfec2",
   "metadata": {
    "execution": {
     "iopub.execute_input": "2022-03-18T11:17:22.250634Z",
     "iopub.status.busy": "2022-03-18T11:17:22.245491Z",
     "iopub.status.idle": "2022-03-18T11:17:22.259141Z",
     "shell.execute_reply": "2022-03-18T11:17:22.258584Z",
     "shell.execute_reply.started": "2022-03-18T10:29:08.740342Z"
    },
    "papermill": {
     "duration": 0.038057,
     "end_time": "2022-03-18T11:17:22.259288",
     "exception": false,
     "start_time": "2022-03-18T11:17:22.221231",
     "status": "completed"
    },
    "tags": []
   },
   "outputs": [
    {
     "data": {
      "text/html": [
       "<div>\n",
       "<style scoped>\n",
       "    .dataframe tbody tr th:only-of-type {\n",
       "        vertical-align: middle;\n",
       "    }\n",
       "\n",
       "    .dataframe tbody tr th {\n",
       "        vertical-align: top;\n",
       "    }\n",
       "\n",
       "    .dataframe thead th {\n",
       "        text-align: right;\n",
       "    }\n",
       "</style>\n",
       "<table border=\"1\" class=\"dataframe\">\n",
       "  <thead>\n",
       "    <tr style=\"text-align: right;\">\n",
       "      <th></th>\n",
       "      <th>Name</th>\n",
       "      <th>Count</th>\n",
       "    </tr>\n",
       "  </thead>\n",
       "  <tbody>\n",
       "    <tr>\n",
       "      <th>52</th>\n",
       "      <td>Michael Jordan</td>\n",
       "      <td>19</td>\n",
       "    </tr>\n",
       "    <tr>\n",
       "      <th>78</th>\n",
       "      <td>Tiger Woods</td>\n",
       "      <td>19</td>\n",
       "    </tr>\n",
       "    <tr>\n",
       "      <th>43</th>\n",
       "      <td>Kobe Bryant</td>\n",
       "      <td>14</td>\n",
       "    </tr>\n",
       "    <tr>\n",
       "      <th>45</th>\n",
       "      <td>LeBron James</td>\n",
       "      <td>13</td>\n",
       "    </tr>\n",
       "    <tr>\n",
       "      <th>54</th>\n",
       "      <td>Michael Schumacher</td>\n",
       "      <td>13</td>\n",
       "    </tr>\n",
       "    <tr>\n",
       "      <th>68</th>\n",
       "      <td>Roger Federer</td>\n",
       "      <td>12</td>\n",
       "    </tr>\n",
       "    <tr>\n",
       "      <th>65</th>\n",
       "      <td>Phil Mickelson</td>\n",
       "      <td>11</td>\n",
       "    </tr>\n",
       "    <tr>\n",
       "      <th>14</th>\n",
       "      <td>Cristiano Ronaldo</td>\n",
       "      <td>10</td>\n",
       "    </tr>\n",
       "    <tr>\n",
       "      <th>48</th>\n",
       "      <td>Lionel Messi</td>\n",
       "      <td>9</td>\n",
       "    </tr>\n",
       "    <tr>\n",
       "      <th>74</th>\n",
       "      <td>Shaquille O'Neal</td>\n",
       "      <td>9</td>\n",
       "    </tr>\n",
       "  </tbody>\n",
       "</table>\n",
       "</div>"
      ],
      "text/plain": [
       "                  Name  Count\n",
       "52      Michael Jordan     19\n",
       "78         Tiger Woods     19\n",
       "43         Kobe Bryant     14\n",
       "45        LeBron James     13\n",
       "54  Michael Schumacher     13\n",
       "68       Roger Federer     12\n",
       "65      Phil Mickelson     11\n",
       "14   Cristiano Ronaldo     10\n",
       "48        Lionel Messi      9\n",
       "74    Shaquille O'Neal      9"
      ]
     },
     "execution_count": 9,
     "metadata": {},
     "output_type": "execute_result"
    }
   ],
   "source": [
    "name_df= df.groupby(['Name'])\n",
    "name_df1= name_df['Name'].count().reset_index(name='Count').sort_values('Count',ascending=False).head(10)\n",
    "name_df1"
   ]
  },
  {
   "cell_type": "code",
   "execution_count": 10,
   "id": "fc2291e2",
   "metadata": {
    "execution": {
     "iopub.execute_input": "2022-03-18T11:17:22.305749Z",
     "iopub.status.busy": "2022-03-18T11:17:22.305161Z",
     "iopub.status.idle": "2022-03-18T11:17:22.558187Z",
     "shell.execute_reply": "2022-03-18T11:17:22.557048Z",
     "shell.execute_reply.started": "2022-03-18T10:29:08.755017Z"
    },
    "papermill": {
     "duration": 0.277265,
     "end_time": "2022-03-18T11:17:22.558370",
     "exception": false,
     "start_time": "2022-03-18T11:17:22.281105",
     "status": "completed"
    },
    "tags": []
   },
   "outputs": [
    {
     "data": {
      "image/png": "[encoded data removed]",
      "text/plain": [
       "<Figure size 432x288 with 1 Axes>"
      ]
     },
     "metadata": {
      "needs_background": "light"
     },
     "output_type": "display_data"
    }
   ],
   "source": [
    "import matplotlib.pyplot as plot\n",
    "name_df1.plot.bar(x=\"Name\", y=\"Count\",rot=75, title=\"Players appeared most on the Forbes Highest Paid Athele article\");\n",
    "\n",
    "plot.show();"
   ]
  },
  {
   "cell_type": "markdown",
   "id": "4731c6be",
   "metadata": {
    "papermill": {
     "duration": 0.023047,
     "end_time": "2022-03-18T11:17:22.605376",
     "exception": false,
     "start_time": "2022-03-18T11:17:22.582329",
     "status": "completed"
    },
    "tags": []
   },
   "source": [
    "**Counclusion 2:**\n",
    "The below graph shows which country appeared most on the Forbes Highest Paid Athelte and it is highly visible that USA appeared most in the article"
   ]
  },
  {
   "cell_type": "code",
   "execution_count": 11,
   "id": "1f560f93",
   "metadata": {
    "execution": {
     "iopub.execute_input": "2022-03-18T11:17:22.655944Z",
     "iopub.status.busy": "2022-03-18T11:17:22.655019Z",
     "iopub.status.idle": "2022-03-18T11:17:22.666293Z",
     "shell.execute_reply": "2022-03-18T11:17:22.666708Z",
     "shell.execute_reply.started": "2022-03-18T10:29:09.026213Z"
    },
    "papermill": {
     "duration": 0.038156,
     "end_time": "2022-03-18T11:17:22.666871",
     "exception": false,
     "start_time": "2022-03-18T11:17:22.628715",
     "status": "completed"
    },
    "tags": []
   },
   "outputs": [
    {
     "data": {
      "text/html": [
       "<div>\n",
       "<style scoped>\n",
       "    .dataframe tbody tr th:only-of-type {\n",
       "        vertical-align: middle;\n",
       "    }\n",
       "\n",
       "    .dataframe tbody tr th {\n",
       "        vertical-align: top;\n",
       "    }\n",
       "\n",
       "    .dataframe thead th {\n",
       "        text-align: right;\n",
       "    }\n",
       "</style>\n",
       "<table border=\"1\" class=\"dataframe\">\n",
       "  <thead>\n",
       "    <tr style=\"text-align: right;\">\n",
       "      <th></th>\n",
       "      <th>Nationality</th>\n",
       "      <th>Count</th>\n",
       "    </tr>\n",
       "  </thead>\n",
       "  <tbody>\n",
       "    <tr>\n",
       "      <th>21</th>\n",
       "      <td>USA</td>\n",
       "      <td>206</td>\n",
       "    </tr>\n",
       "    <tr>\n",
       "      <th>9</th>\n",
       "      <td>Germany</td>\n",
       "      <td>13</td>\n",
       "    </tr>\n",
       "    <tr>\n",
       "      <th>20</th>\n",
       "      <td>UK</td>\n",
       "      <td>13</td>\n",
       "    </tr>\n",
       "    <tr>\n",
       "      <th>19</th>\n",
       "      <td>Switzerland</td>\n",
       "      <td>12</td>\n",
       "    </tr>\n",
       "    <tr>\n",
       "      <th>15</th>\n",
       "      <td>Portugal</td>\n",
       "      <td>10</td>\n",
       "    </tr>\n",
       "    <tr>\n",
       "      <th>0</th>\n",
       "      <td>Argentina</td>\n",
       "      <td>9</td>\n",
       "    </tr>\n",
       "    <tr>\n",
       "      <th>3</th>\n",
       "      <td>Brazil</td>\n",
       "      <td>9</td>\n",
       "    </tr>\n",
       "    <tr>\n",
       "      <th>4</th>\n",
       "      <td>Canada</td>\n",
       "      <td>6</td>\n",
       "    </tr>\n",
       "    <tr>\n",
       "      <th>11</th>\n",
       "      <td>Italy</td>\n",
       "      <td>4</td>\n",
       "    </tr>\n",
       "    <tr>\n",
       "      <th>7</th>\n",
       "      <td>Finland</td>\n",
       "      <td>3</td>\n",
       "    </tr>\n",
       "  </tbody>\n",
       "</table>\n",
       "</div>"
      ],
      "text/plain": [
       "    Nationality  Count\n",
       "21          USA    206\n",
       "9       Germany     13\n",
       "20           UK     13\n",
       "19  Switzerland     12\n",
       "15     Portugal     10\n",
       "0     Argentina      9\n",
       "3        Brazil      9\n",
       "4        Canada      6\n",
       "11        Italy      4\n",
       "7       Finland      3"
      ]
     },
     "execution_count": 11,
     "metadata": {},
     "output_type": "execute_result"
    }
   ],
   "source": [
    "country_df= df.groupby(['Nationality'])\n",
    "country_df1= country_df['Nationality'].count().reset_index(name='Count').sort_values('Count',ascending=False).head(10)\n",
    "country_df1"
   ]
  },
  {
   "cell_type": "code",
   "execution_count": 12,
   "id": "f32fac92",
   "metadata": {
    "execution": {
     "iopub.execute_input": "2022-03-18T11:17:22.717544Z",
     "iopub.status.busy": "2022-03-18T11:17:22.716599Z",
     "iopub.status.idle": "2022-03-18T11:17:23.040879Z",
     "shell.execute_reply": "2022-03-18T11:17:23.040298Z",
     "shell.execute_reply.started": "2022-03-18T10:29:09.041797Z"
    },
    "papermill": {
     "duration": 0.350971,
     "end_time": "2022-03-18T11:17:23.041010",
     "exception": false,
     "start_time": "2022-03-18T11:17:22.690039",
     "status": "completed"
    },
    "tags": []
   },
   "outputs": [
    {
     "data": {
      "image/png": "[encoded data removed]",
      "text/plain": [
       "<Figure size 432x288 with 1 Axes>"
      ]
     },
     "metadata": {
      "needs_background": "light"
     },
     "output_type": "display_data"
    }
   ],
   "source": [
    "country_df1.plot.bar(x=\"Nationality\", y=\"Count\",rot=75, title=\"Country appeared most on the Forbes Highest Paid Athele article\");\n",
    "\n",
    "plot.show();"
   ]
  },
  {
   "cell_type": "markdown",
   "id": "aa4db96d",
   "metadata": {
    "papermill": {
     "duration": 0.024428,
     "end_time": "2022-03-18T11:17:23.090740",
     "exception": false,
     "start_time": "2022-03-18T11:17:23.066312",
     "status": "completed"
    },
    "tags": []
   },
   "source": [
    "**Conclusion 3**: The below graph shows which player bagged Rank 1 most of the times and it is visible that Tiger Woods had bagged Rank1 most of the times over the years."
   ]
  },
  {
   "cell_type": "code",
   "execution_count": 13,
   "id": "169195e3",
   "metadata": {
    "execution": {
     "iopub.execute_input": "2022-03-18T11:17:23.151657Z",
     "iopub.status.busy": "2022-03-18T11:17:23.151020Z",
     "iopub.status.idle": "2022-03-18T11:17:23.159311Z",
     "shell.execute_reply": "2022-03-18T11:17:23.159727Z",
     "shell.execute_reply.started": "2022-03-18T10:56:42.584457Z"
    },
    "papermill": {
     "duration": 0.043478,
     "end_time": "2022-03-18T11:17:23.159895",
     "exception": false,
     "start_time": "2022-03-18T11:17:23.116417",
     "status": "completed"
    },
    "tags": []
   },
   "outputs": [
    {
     "data": {
      "text/html": [
       "<div>\n",
       "<style scoped>\n",
       "    .dataframe tbody tr th:only-of-type {\n",
       "        vertical-align: middle;\n",
       "    }\n",
       "\n",
       "    .dataframe tbody tr th {\n",
       "        vertical-align: top;\n",
       "    }\n",
       "\n",
       "    .dataframe thead th {\n",
       "        text-align: right;\n",
       "    }\n",
       "</style>\n",
       "<table border=\"1\" class=\"dataframe\">\n",
       "  <thead>\n",
       "    <tr style=\"text-align: right;\">\n",
       "      <th></th>\n",
       "      <th>Name</th>\n",
       "      <th>Count</th>\n",
       "    </tr>\n",
       "  </thead>\n",
       "  <tbody>\n",
       "    <tr>\n",
       "      <th>8</th>\n",
       "      <td>Tiger Woods</td>\n",
       "      <td>11</td>\n",
       "    </tr>\n",
       "    <tr>\n",
       "      <th>4</th>\n",
       "      <td>Michael Jordan</td>\n",
       "      <td>5</td>\n",
       "    </tr>\n",
       "    <tr>\n",
       "      <th>2</th>\n",
       "      <td>Floyd Mayweather</td>\n",
       "      <td>4</td>\n",
       "    </tr>\n",
       "    <tr>\n",
       "      <th>0</th>\n",
       "      <td>Cristiano Ronaldo</td>\n",
       "      <td>2</td>\n",
       "    </tr>\n",
       "    <tr>\n",
       "      <th>5</th>\n",
       "      <td>Michael Schumacher</td>\n",
       "      <td>2</td>\n",
       "    </tr>\n",
       "    <tr>\n",
       "      <th>1</th>\n",
       "      <td>Evander Holyfield</td>\n",
       "      <td>1</td>\n",
       "    </tr>\n",
       "    <tr>\n",
       "      <th>3</th>\n",
       "      <td>Lionel Messi</td>\n",
       "      <td>1</td>\n",
       "    </tr>\n",
       "    <tr>\n",
       "      <th>6</th>\n",
       "      <td>Mike Tyson</td>\n",
       "      <td>1</td>\n",
       "    </tr>\n",
       "    <tr>\n",
       "      <th>7</th>\n",
       "      <td>Roger Federer</td>\n",
       "      <td>1</td>\n",
       "    </tr>\n",
       "  </tbody>\n",
       "</table>\n",
       "</div>"
      ],
      "text/plain": [
       "                 Name  Count\n",
       "8         Tiger Woods     11\n",
       "4      Michael Jordan      5\n",
       "2    Floyd Mayweather      4\n",
       "0   Cristiano Ronaldo      2\n",
       "5  Michael Schumacher      2\n",
       "1   Evander Holyfield      1\n",
       "3        Lionel Messi      1\n",
       "6          Mike Tyson      1\n",
       "7       Roger Federer      1"
      ]
     },
     "execution_count": 13,
     "metadata": {},
     "output_type": "execute_result"
    }
   ],
   "source": [
    "rank_df= new_df.query('Current_Rank ==1')\n",
    "rank_df.head()\n",
    "rank_df1= rank_df.groupby(['Name'])\n",
    "rank_df1\n",
    "rank_df2= rank_df1['Name'].count().reset_index(name='Count').sort_values('Count',ascending=False).head(10)\n",
    "rank_df2"
   ]
  },
  {
   "cell_type": "code",
   "execution_count": 14,
   "id": "3fd75a6a",
   "metadata": {
    "execution": {
     "iopub.execute_input": "2022-03-18T11:17:23.212955Z",
     "iopub.status.busy": "2022-03-18T11:17:23.212368Z",
     "iopub.status.idle": "2022-03-18T11:17:23.420758Z",
     "shell.execute_reply": "2022-03-18T11:17:23.421166Z",
     "shell.execute_reply.started": "2022-03-18T10:57:30.301311Z"
    },
    "papermill": {
     "duration": 0.236613,
     "end_time": "2022-03-18T11:17:23.421348",
     "exception": false,
     "start_time": "2022-03-18T11:17:23.184735",
     "status": "completed"
    },
    "tags": []
   },
   "outputs": [
    {
     "data": {
      "image/png": "[encoded data removed]",
      "text/plain": [
       "<Figure size 432x288 with 1 Axes>"
      ]
     },
     "metadata": {
      "needs_background": "light"
     },
     "output_type": "display_data"
    }
   ],
   "source": [
    "rank_df2.plot.bar(x=\"Name\", y=\"Count\",rot=75, title=\"Player who bagged Rank1 most of the times\");\n",
    "\n",
    "plot.show();"
   ]
  },
  {
   "cell_type": "code",
   "execution_count": 15,
   "id": "4abd9a90",
   "metadata": {
    "execution": {
     "iopub.execute_input": "2022-03-18T11:17:23.499018Z",
     "iopub.status.busy": "2022-03-18T11:17:23.498102Z",
     "iopub.status.idle": "2022-03-18T11:17:23.507363Z",
     "shell.execute_reply": "2022-03-18T11:17:23.507948Z",
     "shell.execute_reply.started": "2022-03-18T11:08:35.307004Z"
    },
    "papermill": {
     "duration": 0.051455,
     "end_time": "2022-03-18T11:17:23.508121",
     "exception": false,
     "start_time": "2022-03-18T11:17:23.456666",
     "status": "completed"
    },
    "tags": []
   },
   "outputs": [
    {
     "data": {
      "text/html": [
       "<div>\n",
       "<style scoped>\n",
       "    .dataframe tbody tr th:only-of-type {\n",
       "        vertical-align: middle;\n",
       "    }\n",
       "\n",
       "    .dataframe tbody tr th {\n",
       "        vertical-align: top;\n",
       "    }\n",
       "\n",
       "    .dataframe thead th {\n",
       "        text-align: right;\n",
       "    }\n",
       "</style>\n",
       "<table border=\"1\" class=\"dataframe\">\n",
       "  <thead>\n",
       "    <tr style=\"text-align: right;\">\n",
       "      <th></th>\n",
       "      <th>S.NO</th>\n",
       "      <th>Name</th>\n",
       "      <th>Nationality</th>\n",
       "      <th>Current_Rank</th>\n",
       "      <th>Previous_Year_Rank</th>\n",
       "      <th>Sport</th>\n",
       "      <th>Year</th>\n",
       "      <th>Earnings</th>\n",
       "    </tr>\n",
       "  </thead>\n",
       "  <tbody>\n",
       "    <tr>\n",
       "      <th>10</th>\n",
       "      <td>11</td>\n",
       "      <td>Evander Holyfield</td>\n",
       "      <td>USA</td>\n",
       "      <td>1</td>\n",
       "      <td>8</td>\n",
       "      <td>boxing</td>\n",
       "      <td>1991</td>\n",
       "      <td>60.5</td>\n",
       "    </tr>\n",
       "    <tr>\n",
       "      <th>11</th>\n",
       "      <td>12</td>\n",
       "      <td>Mike Tyson</td>\n",
       "      <td>USA</td>\n",
       "      <td>2</td>\n",
       "      <td>1</td>\n",
       "      <td>boxing</td>\n",
       "      <td>1991</td>\n",
       "      <td>31.5</td>\n",
       "    </tr>\n",
       "    <tr>\n",
       "      <th>12</th>\n",
       "      <td>13</td>\n",
       "      <td>Michael Jordan</td>\n",
       "      <td>USA</td>\n",
       "      <td>3</td>\n",
       "      <td>8</td>\n",
       "      <td>basketball</td>\n",
       "      <td>1991</td>\n",
       "      <td>16.0</td>\n",
       "    </tr>\n",
       "    <tr>\n",
       "      <th>13</th>\n",
       "      <td>14</td>\n",
       "      <td>George Foreman</td>\n",
       "      <td>USA</td>\n",
       "      <td>4</td>\n",
       "      <td>&gt;30</td>\n",
       "      <td>boxing</td>\n",
       "      <td>1991</td>\n",
       "      <td>14.5</td>\n",
       "    </tr>\n",
       "    <tr>\n",
       "      <th>14</th>\n",
       "      <td>15</td>\n",
       "      <td>Ayrton Senna</td>\n",
       "      <td>Brazil</td>\n",
       "      <td>5</td>\n",
       "      <td>4</td>\n",
       "      <td>auto racing</td>\n",
       "      <td>1991</td>\n",
       "      <td>13.0</td>\n",
       "    </tr>\n",
       "  </tbody>\n",
       "</table>\n",
       "</div>"
      ],
      "text/plain": [
       "    S.NO               Name Nationality  Current_Rank Previous_Year_Rank  \\\n",
       "10    11  Evander Holyfield         USA             1                  8   \n",
       "11    12         Mike Tyson         USA             2                  1   \n",
       "12    13     Michael Jordan         USA             3                  8   \n",
       "13    14     George Foreman         USA             4                >30   \n",
       "14    15       Ayrton Senna      Brazil             5                  4   \n",
       "\n",
       "          Sport  Year  Earnings  \n",
       "10       boxing  1991      60.5  \n",
       "11       boxing  1991      31.5  \n",
       "12   basketball  1991      16.0  \n",
       "13       boxing  1991      14.5  \n",
       "14  auto racing  1991      13.0  "
      ]
     },
     "execution_count": 15,
     "metadata": {},
     "output_type": "execute_result"
    }
   ],
   "source": [
    "new_df.head()\n",
    "new_df1 = new_df.rename({'earnings_($_million)': 'Earnings'}, axis=1)\n",
    "new_df1.head()"
   ]
  },
  {
   "cell_type": "markdown",
   "id": "97c44603",
   "metadata": {
    "papermill": {
     "duration": 0.0284,
     "end_time": "2022-03-18T11:17:23.572815",
     "exception": false,
     "start_time": "2022-03-18T11:17:23.544415",
     "status": "completed"
    },
    "tags": []
   },
   "source": [
    "Conclusion 4: The below graph shows that which player has earned more than 100 million over the years and the answer is TigerWoods"
   ]
  },
  {
   "cell_type": "code",
   "execution_count": 16,
   "id": "27998a99",
   "metadata": {
    "execution": {
     "iopub.execute_input": "2022-03-18T11:17:23.627924Z",
     "iopub.status.busy": "2022-03-18T11:17:23.627374Z",
     "iopub.status.idle": "2022-03-18T11:17:23.852968Z",
     "shell.execute_reply": "2022-03-18T11:17:23.852455Z",
     "shell.execute_reply.started": "2022-03-18T11:16:44.047227Z"
    },
    "papermill": {
     "duration": 0.254158,
     "end_time": "2022-03-18T11:17:23.853105",
     "exception": false,
     "start_time": "2022-03-18T11:17:23.598947",
     "status": "completed"
    },
    "tags": []
   },
   "outputs": [
    {
     "data": {
      "image/png": "[encoded data removed]",
      "text/plain": [
       "<Figure size 432x288 with 1 Axes>"
      ]
     },
     "metadata": {
      "needs_background": "light"
     },
     "output_type": "display_data"
    }
   ],
   "source": [
    "high_pay = new_df1.query('Earnings>= 100')\n",
    "high_pay1 = high_pay.groupby(['Name'])\n",
    "high_pay2 = high_pay1['Name'].count().reset_index(name='Count').sort_values('Count',ascending=False).head(10)\n",
    "high_pay2\n",
    "high_pay2.plot.bar(x=\"Name\", y=\"Count\",rot=82, title=\"Player who has earned more than 100 million over the years\");\n",
    "plot.show()"
   ]
  },
  {
   "cell_type": "code",
   "execution_count": null,
   "id": "3f47d1ec",
   "metadata": {
    "papermill": {
     "duration": 0.027053,
     "end_time": "2022-03-18T11:17:23.908143",
     "exception": false,
     "start_time": "2022-03-18T11:17:23.881090",
     "status": "completed"
    },
    "tags": []
   },
   "outputs": [],
   "source": []
  },
  {
   "cell_type": "markdown",
   "id": "54beb683",
   "metadata": {
    "papermill": {
     "duration": 0.026775,
     "end_time": "2022-03-18T11:17:23.963053",
     "exception": false,
     "start_time": "2022-03-18T11:17:23.936278",
     "status": "completed"
    },
    "tags": []
   },
   "source": [
    "Exploratory Data analysis and Visualization\n",
    "->To talk about the dataset and how it will be helpful \n",
    "->information about the highest paid athelets\n",
    "->To know about the trends on Forbes highest paid athelets from 1990 to 2020"
   ]
  },
  {
   "cell_type": "code",
   "execution_count": null,
   "id": "04ff604b",
   "metadata": {
    "papermill": {
     "duration": 0.026932,
     "end_time": "2022-03-18T11:17:24.017800",
     "exception": false,
     "start_time": "2022-03-18T11:17:23.990868",
     "status": "completed"
    },
    "tags": []
   },
   "outputs": [],
   "source": []
  },
  {
   "cell_type": "code",
   "execution_count": null,
   "id": "dda6358a",
   "metadata": {
    "papermill": {
     "duration": 0.028431,
     "end_time": "2022-03-18T11:17:24.074572",
     "exception": false,
     "start_time": "2022-03-18T11:17:24.046141",
     "status": "completed"
    },
    "tags": []
   },
   "outputs": [],
   "source": []
  },
  {
   "cell_type": "code",
   "execution_count": null,
   "id": "7264eee5",
   "metadata": {
    "papermill": {
     "duration": 0.027158,
     "end_time": "2022-03-18T11:17:24.130277",
     "exception": false,
     "start_time": "2022-03-18T11:17:24.103119",
     "status": "completed"
    },
    "tags": []
   },
   "outputs": [],
   "source": []
  },
  {
   "cell_type": "markdown",
   "id": "31ddc826",
   "metadata": {
    "papermill": {
     "duration": 0.027091,
     "end_time": "2022-03-18T11:17:24.185303",
     "exception": false,
     "start_time": "2022-03-18T11:17:24.158212",
     "status": "completed"
    },
    "tags": []
   },
   "source": [
    "Ask and answer questions\n",
    "1.who is the highest paid athlete each year\n",
    "2.which country appeared most on the Forbes Highest Paid Athelte\n",
    "3.which sport has the highest paid athelet\n",
    "4.which player bagged rank 1 most of the times\n",
    "5.players who have earned 100m over the years."
   ]
  },
  {
   "cell_type": "code",
   "execution_count": null,
   "id": "f5772220",
   "metadata": {
    "papermill": {
     "duration": 0.026837,
     "end_time": "2022-03-18T11:17:24.240416",
     "exception": false,
     "start_time": "2022-03-18T11:17:24.213579",
     "status": "completed"
    },
    "tags": []
   },
   "outputs": [],
   "source": []
  },
  {
   "cell_type": "markdown",
   "id": "764af4e7",
   "metadata": {
    "papermill": {
     "duration": 0.026991,
     "end_time": "2022-03-18T11:17:24.294473",
     "exception": false,
     "start_time": "2022-03-18T11:17:24.267482",
     "status": "completed"
    },
    "tags": []
   },
   "source": [
    "Summary and Conclusions"
   ]
  },
  {
   "cell_type": "markdown",
   "id": "a881a680",
   "metadata": {
    "papermill": {
     "duration": 0.026672,
     "end_time": "2022-03-18T11:17:24.348141",
     "exception": false,
     "start_time": "2022-03-18T11:17:24.321469",
     "status": "completed"
    },
    "tags": []
   },
   "source": []
  }
 ],
 "metadata": {
  "kernelspec": {
   "display_name": "Python 3",
   "language": "python",
   "name": "python3"
  },
  "language_info": {
   "codemirror_mode": {
    "name": "ipython",
    "version": 3
   },
   "file_extension": ".py",
   "mimetype": "text/x-python",
   "name": "python",
   "nbconvert_exporter": "python",
   "pygments_lexer": "ipython3",
   "version": "3.7.12"
  },
  "papermill": {
   "default_parameters": {},
   "duration": 11.940227,
   "end_time": "2022-03-18T11:17:24.984491",
   "environment_variables": {},
   "exception": null,
   "input_path": "__notebook__.ipynb",
   "output_path": "__notebook__.ipynb",
   "parameters": {},
   "start_time": "2022-03-18T11:17:13.044264",
   "version": "2.3.3"
  }
 },
 "nbformat": 4,
 "nbformat_minor": 5
}
